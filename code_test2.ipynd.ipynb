{
 "cells": [
  {
   "cell_type": "code",
   "execution_count": 1,
   "metadata": {},
   "outputs": [
    {
     "name": "stdout",
     "output_type": "stream",
     "text": [
      "COOOOOOOOOOOOOOOOOOOOL\n"
     ]
    }
   ],
   "source": [
    "print(\"COOOOOOOOOOOOOOOOOOOOL\")"
   ]
  }
 ],
 "metadata": {
  "kernelspec": {
   "display_name": "Python 3",
   "language": "python",
   "name": "python3"
  },
  "language_info": {
   "codemirror_mode": {
    "name": "ipython",
    "version": 3
   },
   "file_extension": ".py",
   "mimetype": "text/x-python",
   "name": "python",
   "nbconvert_exporter": "python",
   "pygments_lexer": "ipython3",
   "version": "3.10.10"
  },
  "orig_nbformat": 4,
  "vscode": {
   "interpreter": {
    "hash": "568943ada39213fed5492aeed1968a187d299393de81b80f5d4996918ad4fb98"
   }
  }
 },
 "nbformat": 4,
 "nbformat_minor": 2
}
