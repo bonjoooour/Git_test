{
 "cells": [
  {
   "cell_type": "code",
   "execution_count": 7,
   "metadata": {},
   "outputs": [
    {
     "name": "stdout",
     "output_type": "stream",
     "text": [
      "Hello\n"
     ]
    }
   ],
   "source": [
    "print(\"Hello\")"
   ]
  },
  {
   "cell_type": "code",
   "execution_count": null,
   "metadata": {},
   "outputs": [],
   "source": [
    "def Boucle(k):\n",
    "    for i in range(10):\n",
    "        if k == i:\n",
    "            print(\"OK\")\n",
    "            k-=1\n",
    "        else:\n",
    "            print(\"OUPS\")\n",
    "    print(\"la valeur finale de k est %s\" %k)\n",
    "\n",
    "\n",
    "Boucle(5)\n",
    "print(\"\\n\")\n",
    "Boucle(8)"
   ]
  },
  {
   "cell_type": "code",
   "execution_count": 12,
   "metadata": {},
   "outputs": [
    {
     "name": "stdout",
     "output_type": "stream",
     "text": [
      "1\n",
      "2\n",
      "3\n",
      "4\n",
      "5\n"
     ]
    }
   ],
   "source": [
    "for i in range(5):\n",
    "    print(i+1)\n"
   ]
  }
 ],
 "metadata": {
  "kernelspec": {
   "display_name": "Python 3",
   "language": "python",
   "name": "python3"
  },
  "language_info": {
   "codemirror_mode": {
    "name": "ipython",
    "version": 3
   },
   "file_extension": ".py",
   "mimetype": "text/x-python",
   "name": "python",
   "nbconvert_exporter": "python",
   "pygments_lexer": "ipython3",
   "version": "3.10.10"
  },
  "orig_nbformat": 4,
  "vscode": {
   "interpreter": {
    "hash": "568943ada39213fed5492aeed1968a187d299393de81b80f5d4996918ad4fb98"
   }
  }
 },
 "nbformat": 4,
 "nbformat_minor": 2
}
